{
 "cells": [
  {
   "cell_type": "code",
   "execution_count": 12,
   "metadata": {},
   "outputs": [],
   "source": [
    "import pandas as pd\n",
    "import numpy as np\n",
    "import pydeck as pdk\n",
    "import math"
   ]
  },
  {
   "cell_type": "code",
   "execution_count": 2,
   "metadata": {},
   "outputs": [],
   "source": [
    "# Lightstation data\n",
    "ls_data = pd.read_csv('./data/BC_Lightstations_and_other_Sample_Sites.csv', skiprows=1)\n",
    "ls_data.rename(columns={\n",
    "    'LATITUDE (DECIMAL DEGREES)': 'latitude',\n",
    "    'Unnamed: 4': 'longitude',\n",
    "    'LIGHTSTATION / LOCATION': 'lightstation'\n",
    "}, inplace=True)\n",
    "ls_data.rename(str.lower, axis='columns', inplace=True)\n",
    "ls_active = ls_data[ls_data['data collection status']=='ACTIVE']\n",
    "ls_inactive = ls_data[ls_data['data collection status']!='ACTIVE']\n"
   ]
  },
  {
   "cell_type": "code",
   "execution_count": 5,
   "metadata": {},
   "outputs": [],
   "source": [
    "# Fish farm data\n",
    "ff_data = pd.read_csv('./data/lice-count-dens-pou-2011-ongoing-rpt-pac-dfo-mpo-aquaculture-eng.csv')\n",
    "ff_data.columns\n",
    "ff_data.rename(columns = {\n",
    "    'Latitude (Decimal Degrees)': 'latitude',\n",
    "    'Longitude (Decimal Degrees)': 'longitude',\n",
    "    'Facility Reference \\nNumber': 'facility'\n",
    "}, inplace=True)\n",
    "ff_data.rename(str.lower, axis='columns', inplace=True)\n"
   ]
  },
  {
   "cell_type": "code",
   "execution_count": 83,
   "metadata": {},
   "outputs": [],
   "source": [
    "ff_sites = ff_data[['facility', 'latitude', 'longitude']]\n",
    "ff_sites = ff_sites.drop_duplicates(subset=['facility'])"
   ]
  },
  {
   "cell_type": "code",
   "execution_count": 7,
   "metadata": {},
   "outputs": [
    {
     "name": "stdout",
     "output_type": "stream",
     "text": [
      "Farms are in blue and lightstation locations are in red\n"
     ]
    },
    {
     "data": {
      "text/html": [
       "\n",
       "        <iframe\n",
       "            width=\"700\"\n",
       "            height=\"500\"\n",
       "            src=\"./farms.html\"\n",
       "            frameborder=\"0\"\n",
       "            allowfullscreen\n",
       "        ></iframe>\n",
       "        "
      ],
      "text/plain": [
       "<IPython.lib.display.IFrame at 0x1da3711c708>"
      ]
     },
     "metadata": {},
     "output_type": "display_data"
    },
    {
     "data": {
      "text/plain": [
       "'C:\\\\Users\\\\Tom\\\\Projects\\\\sea-lice\\\\farms.html'"
      ]
     },
     "execution_count": 7,
     "metadata": {},
     "output_type": "execute_result"
    }
   ],
   "source": [
    "midpoint = (np.median(ff_sites[\"latitude\"]), np.median(ff_sites[\"longitude\"]))\n",
    "\n",
    "farm_colours = [[240,249,232],[204,235,197],[168,221,181],[123,204,196],[67,162,202],[8,104,172]]\n",
    "lightstation_colours = [(254,240,217),(253,212,158),(253,187,132),(252,141,89),(227,74,51),(179,0,0)]\n",
    "map = pdk.Deck(\n",
    "    initial_view_state={\n",
    "        \"latitude\": midpoint[0],\n",
    "        \"longitude\": midpoint[1],\n",
    "        \"zoom\": 6,\n",
    "        \"pitch\": 50,\n",
    "    },\n",
    "    layers=[\n",
    "        pdk.Layer(\n",
    "        \"HeatmapLayer\",\n",
    "        ff_sites,\n",
    "        get_position=['longitude', 'latitude'],\n",
    "        opacity=0.5,\n",
    "        color_range=farm_colours\n",
    "        ),\n",
    "        pdk.Layer(\n",
    "        \"HeatmapLayer\",\n",
    "        ls_active,\n",
    "        get_position=['longitude', 'latitude'],\n",
    "        opacity=0.5,\n",
    "        color_range=lightstation_colours\n",
    "        ),\n",
    "    ],\n",
    "    mapbox_key='pk.eyJ1IjoidG9tc2l0dGVyIiwiYSI6ImNrYjJocjU0azBiNTEycnFwZWFkajB2bnoifQ.M1BDSPntGHfosotYAUAINw'\n",
    ")\n",
    "\n",
    "print(\"Farms are in blue and lightstation locations are in red\")\n",
    "map.to_html('farms.html')"
   ]
  },
  {
   "cell_type": "code",
   "execution_count": 84,
   "metadata": {},
   "outputs": [
    {
     "name": "stdout",
     "output_type": "stream",
     "text": [
      "Min: facility      78.00000\n",
      "latitude      48.94310\n",
      "longitude   -128.57494\n",
      "dtype: float64\n",
      "Max: facility     7714.00000\n",
      "latitude       52.80048\n",
      "longitude    -123.72455\n",
      "dtype: float64\n"
     ]
    }
   ],
   "source": [
    "\n",
    "\n",
    "#min_lat = math.floor(ff_sites['latitude']\n",
    "print(\"Min:\", ff_sites.min(axis='rows'))\n",
    "print(\"Max:\", ff_sites.max(axis='rows'))"
   ]
  },
  {
   "cell_type": "code",
   "execution_count": 21,
   "metadata": {},
   "outputs": [],
   "source": [
    "min_lat = math.floor(np.min(ff_sites.latitude))\n",
    "min_lon = math.floor(np.min(ff_sites.longitude))\n",
    "\n",
    "max_lat = math.ceil(np.max(ff_sites.latitude))\n",
    "max_lon = math.ceil(np.max(ff_sites.longitude))"
   ]
  },
  {
   "cell_type": "code",
   "execution_count": 29,
   "metadata": {},
   "outputs": [
    {
     "name": "stdout",
     "output_type": "stream",
     "text": [
      "\n",
      "Please wait while program searching for the granules ...\n",
      "\n"
     ]
    },
    {
     "name": "stderr",
     "output_type": "stream",
     "text": [
      "Traceback (most recent call last):\n",
      "  File \"./nasa_subset_data.py\", line 542, in <module>\n",
      "    standalone_main()\n",
      "  File \"./nasa_subset_data.py\", line 267, in standalone_main\n",
      "    doc = minidom.parse(urllib.request.urlopen(samplefile))\n",
      "  File \"C:\\Users\\Tom\\AppData\\Local\\Programs\\Python\\Python37\\lib\\urllib\\request.py\", line 222, in urlopen\n",
      "    return opener.open(url, data, timeout)\n",
      "  File \"C:\\Users\\Tom\\AppData\\Local\\Programs\\Python\\Python37\\lib\\urllib\\request.py\", line 531, in open\n",
      "    response = meth(req, response)\n",
      "  File \"C:\\Users\\Tom\\AppData\\Local\\Programs\\Python\\Python37\\lib\\urllib\\request.py\", line 641, in http_response\n",
      "    'http', request, response, code, msg, hdrs)\n",
      "  File \"C:\\Users\\Tom\\AppData\\Local\\Programs\\Python\\Python37\\lib\\urllib\\request.py\", line 569, in error\n",
      "    return self._call_chain(*args)\n",
      "  File \"C:\\Users\\Tom\\AppData\\Local\\Programs\\Python\\Python37\\lib\\urllib\\request.py\", line 503, in _call_chain\n",
      "    result = func(*args)\n",
      "  File \"C:\\Users\\Tom\\AppData\\Local\\Programs\\Python\\Python37\\lib\\urllib\\request.py\", line 649, in http_error_default\n",
      "    raise HTTPError(req.full_url, code, msg, hdrs, fp)\n",
      "urllib.error.HTTPError: HTTP Error 503: Service Unavailable\n"
     ]
    }
   ],
   "source": [
    "# % ./subset_dataset.py -s 20100101 -f 20100201 -b -140 -110 20 30 -x MUR-JPL-L4-GLOB-v4.1\n",
    "# Subset the data from 1 Jan 2010 to 1 Feb 2010 in a box from -140 to -110 degrees longitude and 20 to 30 degrees latitude\n",
    "# for shortName MUR-JPL-L4-GLOB-v4.1\n",
    "\n",
    "!python ./nasa_subset_data.py -s 20190101 -b {min_lon} {max_lon} {min_lat} {max_lat} -x MUR-JPL-L4-GLOB-v4.1"
   ]
  },
  {
   "cell_type": "code",
   "execution_count": 35,
   "metadata": {},
   "outputs": [],
   "source": [
    "sst = Dataset(\"./data/20190101090000-JPL-L4_GHRSST-SSTfnd-MUR-GLOB-v02.0-fv04.1_subset.nc\", \"r\", format=\"NETCDF4\")"
   ]
  },
  {
   "cell_type": "code",
   "execution_count": 79,
   "metadata": {},
   "outputs": [],
   "source": [
    "sst.variables['analysed_sst'].shape\n",
    "sst_lats = sst.variables['lat'][:]\n",
    "sst_lons = sst.variables['lon'][:]\n",
    "temps = sst.variables['analysed_sst']"
   ]
  },
  {
   "cell_type": "code",
   "execution_count": 103,
   "metadata": {},
   "outputs": [
    {
     "name": "stdout",
     "output_type": "stream",
     "text": [
      "Temp at (48.94, -124.99) is 281.4\n",
      "Temp at (49.31, -126.01) is 281.9\n",
      "Temp at (49.27, -125.81) is 281.9\n",
      "Temp at (49.34, -125.95) is 281.9\n",
      "Temp at (49.4, -126.15) is 281.8\n",
      "Temp at (49.24, -125.75) is 281.9\n",
      "Temp at (49.31, -125.82) is 281.9\n",
      "Temp at (49.38, -126.09) is 281.8\n",
      "Temp at (49.26, -125.87) is 282.0\n",
      "Temp at (49.26, -125.84) is 282.0\n",
      "Temp at (49.32, -126.05) is 281.9\n",
      "Temp at (49.25, -125.91) is 282.0\n",
      "Temp at (49.28, -125.83) is 281.9\n",
      "Temp at (49.66, -126.45) is 281.6\n",
      "Temp at (49.66, -126.48) is 281.7\n",
      "Temp at (49.88, -126.76) is 281.6\n",
      "Temp at (49.64, -126.34) is 281.6\n",
      "Temp at (49.89, -126.79) is 281.6\n",
      "Temp at (49.66, -126.43) is 281.6\n",
      "Temp at (50.48, -127.73) is 281.7\n",
      "Temp at (50.46, -127.89) is 281.9\n",
      "Temp at (50.47, -127.79) is 281.8\n",
      "Temp at (50.47, -127.84) is 281.8\n",
      "Temp at (49.78, -124.15) is 280.5\n",
      "Temp at (49.8, -124.1) is 280.4\n",
      "Temp at (49.63, -123.84) is 280.5\n",
      "Temp at (50.32, -125.26) is 280.4\n",
      "Temp at (50.18, -125.15) is 280.5\n",
      "Temp at (50.32, -125.01) is 280.4\n",
      "Temp at (50.45, -125.4) is 280.4\n",
      "Temp at (50.37, -125.38) is 280.4\n",
      "Temp at (50.42, -125.66) is 280.5\n",
      "Temp at (50.49, -125.27) is 280.3\n",
      "Temp at (50.47, -125.26) is 280.3\n",
      "Temp at (50.41, -125.77) is 280.5\n",
      "Temp at (50.41, -125.7) is 280.5\n",
      "Temp at (50.49, -125.36) is 280.4\n",
      "Temp at (50.42, -125.31) is 280.4\n",
      "Temp at (50.41, -125.34) is 280.4\n",
      "Temp at (50.61, -126.36) is 280.4\n",
      "Temp at (50.8, -126.5) is 280.3\n",
      "Temp at (50.85, -126.71) is 280.3\n",
      "Temp at (50.84, -126.66) is 280.3\n",
      "Temp at (50.85, -126.76) is 280.3\n",
      "Temp at (50.83, -126.6) is 280.3\n",
      "Temp at (50.71, -126.66) is 280.4\n",
      "Temp at (50.65, -126.29) is 280.4\n",
      "Temp at (50.67, -126.48) is 280.4\n",
      "Temp at (50.65, -126.62) is 280.5\n",
      "Temp at (50.67, -126.19) is 280.4\n",
      "Temp at (50.49, -125.89) is 280.5\n",
      "Temp at (50.62, -126.7) is 280.5\n",
      "Temp at (50.72, -126.57) is 280.4\n",
      "Temp at (50.79, -126.69) is 280.4\n",
      "Temp at (50.88, -126.9) is 280.4\n",
      "Temp at (50.86, -126.92) is 280.4\n",
      "Temp at (50.83, -127.52) is 281.1\n",
      "Temp at (50.82, -127.56) is 281.2\n",
      "Temp at (50.91, -127.34) is 280.8\n",
      "Temp at (50.89, -127.25) is 280.7\n",
      "Temp at (50.97, -127.45) is 280.9\n",
      "Temp at (50.88, -127.5) is 281.0\n",
      "Temp at (52.79, -128.42) is 280.9\n",
      "Temp at (52.54, -128.4) is 281.1\n",
      "Temp at (52.8, -128.4) is 280.9\n",
      "Temp at (52.79, -128.33) is 280.9\n",
      "Temp at (52.53, -128.36) is 281.1\n",
      "Temp at (52.8, -128.31) is 280.9\n",
      "Temp at (49.33, -125.8) is 281.8\n",
      "Temp at (50.49, -127.88) is 281.9\n",
      "Temp at (49.62, -123.83) is 280.5\n",
      "Temp at (50.29, -125.35) is 280.5\n",
      "Temp at (50.3, -125.34) is 280.5\n",
      "Temp at (50.48, -125.81) is 280.5\n",
      "Temp at (50.85, -126.32) is 280.3\n",
      "Temp at (50.7, -126.26) is 280.4\n",
      "Temp at (50.66, -126.66) is 280.5\n",
      "Temp at (49.67, -123.86) is 280.4\n",
      "Temp at (50.26, -125.21) is 280.5\n",
      "Temp at (50.81, -127.49) is 281.1\n",
      "Temp at (49.26, -125.92) is 282.0\n",
      "Temp at (50.01, -123.9) is 280.3\n",
      "Temp at (49.64, -126.33) is 281.6\n",
      "Temp at (49.65, -123.72) is 280.5\n",
      "Temp at (50.31, -125.32) is 280.5\n",
      "Temp at (50.6, -126.63) is 280.5\n",
      "Temp at (49.21, -125.77) is 282.0\n",
      "Temp at (50.83, -126.5) is 280.3\n",
      "Temp at (52.79, -128.42) is 280.9\n",
      "Temp at (50.9, -127.94) is 281.6\n",
      "Temp at (49.63, -123.78) is 280.5\n",
      "Temp at (50.6, -126.35) is 280.5\n",
      "Temp at (52.68, -128.57) is 281.1\n",
      "Temp at (52.72, -128.57) is 281.0\n",
      "Temp at (49.65, -126.43) is 281.6\n",
      "Temp at (49.87, -126.76) is 281.6\n",
      "Temp at (50.89, -127.9) is 281.6\n",
      "Temp at (50.61, -126.33) is 280.4\n",
      "Temp at (50.93, -127.42) is 280.9\n"
     ]
    }
   ],
   "source": [
    "ff_sites = ff_sites.round({'latitude': 2, 'longitude': 2})\n",
    "\n",
    "for index, site in ff_sites.iterrows():\n",
    "    lat, lon = site.latitude, site.longitude\n",
    "    lat_loc = np.abs(sst_lats - lat).argmin()\n",
    "    lon_loc = np.abs(sst_lons - lon).argmin()\n",
    "    temp = temps[0, lat_loc-2:lat_loc+2, lon_loc-2:lon_loc+2]\n",
    "    print(f\"Temp at ({lat}, {lon}) is {round(temp.mean(), 1)}\")\n"
   ]
  },
  {
   "cell_type": "code",
   "execution_count": 100,
   "metadata": {},
   "outputs": [
    {
     "data": {
      "text/plain": [
       "281.4173333333333"
      ]
     },
     "execution_count": 100,
     "metadata": {},
     "output_type": "execute_result"
    }
   ],
   "source": [
    "temp.mean()"
   ]
  },
  {
   "cell_type": "code",
   "execution_count": 71,
   "metadata": {},
   "outputs": [],
   "source": [
    "def k_to_c(temp):\n",
    "    return temp - 273.15"
   ]
  },
  {
   "cell_type": "code",
   "execution_count": null,
   "metadata": {},
   "outputs": [],
   "source": []
  }
 ],
 "metadata": {
  "kernelspec": {
   "display_name": "Python 3",
   "language": "python",
   "name": "python3"
  },
  "language_info": {
   "codemirror_mode": {
    "name": "ipython",
    "version": 3
   },
   "file_extension": ".py",
   "mimetype": "text/x-python",
   "name": "python",
   "nbconvert_exporter": "python",
   "pygments_lexer": "ipython3",
   "version": "3.7.7"
  }
 },
 "nbformat": 4,
 "nbformat_minor": 4
}
