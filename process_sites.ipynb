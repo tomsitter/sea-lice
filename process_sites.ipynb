{
 "cells": [
  {
   "cell_type": "code",
   "execution_count": 1,
   "metadata": {},
   "outputs": [],
   "source": [
    "import pandas as pd\n",
    "import numpy as np\n",
    "import pydeck as pdk"
   ]
  },
  {
   "cell_type": "code",
   "execution_count": 2,
   "metadata": {},
   "outputs": [],
   "source": [
    "# Lightstation data\n",
    "ls_data = pd.read_csv('./data/BC_Lightstations_and_other_Sample_Sites.csv', skiprows=1)\n",
    "ls_data.rename(columns={\n",
    "    'LATITUDE (DECIMAL DEGREES)': 'latitude',\n",
    "    'Unnamed: 4': 'longitude',\n",
    "    'LIGHTSTATION / LOCATION': 'lightstation'\n",
    "}, inplace=True)\n",
    "ls_data.rename(str.lower, axis='columns', inplace=True)\n",
    "ls_active = ls_data[ls_data['data collection status']=='ACTIVE']\n",
    "ls_inactive = ls_data[ls_data['data collection status']!='ACTIVE']\n"
   ]
  },
  {
   "cell_type": "code",
   "execution_count": 31,
   "metadata": {},
   "outputs": [
    {
     "data": {
      "text/html": [
       "\n",
       "        <iframe\n",
       "            width=\"700\"\n",
       "            height=\"500\"\n",
       "            src=\"./farms.html\"\n",
       "            frameborder=\"0\"\n",
       "            allowfullscreen\n",
       "        ></iframe>\n",
       "        "
      ],
      "text/plain": [
       "<IPython.lib.display.IFrame at 0x1c3a3435648>"
      ]
     },
     "metadata": {},
     "output_type": "display_data"
    },
    {
     "data": {
      "text/plain": [
       "'C:\\\\Users\\\\Tom\\\\Projects\\\\sea-lice\\\\farms.html'"
      ]
     },
     "execution_count": 31,
     "metadata": {},
     "output_type": "execute_result"
    }
   ],
   "source": [
    "midpoint = (np.median(ff_sites[\"latitude\"]), np.median(ff_sites[\"longitude\"]))\n",
    "\n",
    "map = pdk.Deck(\n",
    "    initial_view_state={\n",
    "        \"latitude\": midpoint[0],\n",
    "        \"longitude\": midpoint[1],\n",
    "        \"zoom\": 6,\n",
    "        \"pitch\": 50,\n",
    "    },\n",
    "    layers=[\n",
    "        pdk.Layer(\n",
    "        \"ScatterplotLayer\",\n",
    "        ls_active,\n",
    "        get_position=['longitude', 'latitude'],\n",
    "        auto_highlight=True,\n",
    "        get_radius=2000,\n",
    "        pickable=True,\n",
    "        get_fill_color=[255, 0, 0, 255],\n",
    "        ),\n",
    "    ],\n",
    "    mapbox_key='pk.eyJ1IjoidG9tc2l0dGVyIiwiYSI6ImNrYjJocjU0azBiNTEycnFwZWFkajB2bnoifQ.M1BDSPntGHfosotYAUAINw'\n",
    ")\n",
    "\n",
    "map.to_html('farms.html')"
   ]
  },
  {
   "cell_type": "code",
   "execution_count": 3,
   "metadata": {},
   "outputs": [],
   "source": [
    "# Fish farm data\n",
    "ff_data = pd.read_csv('./data/lice-count-dens-pou-2011-ongoing-rpt-pac-dfo-mpo-aquaculture-eng.csv')\n",
    "ff_data.columns\n",
    "ff_data.rename(columns = {\n",
    "    'Latitude (Decimal Degrees)': 'latitude',\n",
    "    'Longitude (Decimal Degrees)': 'longitude',\n",
    "    'Facility Reference \\nNumber': 'facility'\n",
    "}, inplace=True)\n",
    "ff_data.rename(str.lower, axis='columns', inplace=True)\n"
   ]
  },
  {
   "cell_type": "code",
   "execution_count": 4,
   "metadata": {},
   "outputs": [
    {
     "data": {
      "text/html": [
       "<div>\n",
       "<style scoped>\n",
       "    .dataframe tbody tr th:only-of-type {\n",
       "        vertical-align: middle;\n",
       "    }\n",
       "\n",
       "    .dataframe tbody tr th {\n",
       "        vertical-align: top;\n",
       "    }\n",
       "\n",
       "    .dataframe thead th {\n",
       "        text-align: right;\n",
       "    }\n",
       "</style>\n",
       "<table border=\"1\" class=\"dataframe\">\n",
       "  <thead>\n",
       "    <tr style=\"text-align: right;\">\n",
       "      <th></th>\n",
       "      <th>facility</th>\n",
       "      <th>latitude</th>\n",
       "      <th>longitude</th>\n",
       "    </tr>\n",
       "  </thead>\n",
       "  <tbody>\n",
       "    <tr>\n",
       "      <th>0</th>\n",
       "      <td>169</td>\n",
       "      <td>48.94310</td>\n",
       "      <td>-124.98704</td>\n",
       "    </tr>\n",
       "    <tr>\n",
       "      <th>1</th>\n",
       "      <td>227</td>\n",
       "      <td>49.30798</td>\n",
       "      <td>-126.00721</td>\n",
       "    </tr>\n",
       "    <tr>\n",
       "      <th>2</th>\n",
       "      <td>520</td>\n",
       "      <td>49.26548</td>\n",
       "      <td>-125.81247</td>\n",
       "    </tr>\n",
       "    <tr>\n",
       "      <th>3</th>\n",
       "      <td>1148</td>\n",
       "      <td>49.34182</td>\n",
       "      <td>-125.95328</td>\n",
       "    </tr>\n",
       "    <tr>\n",
       "      <th>4</th>\n",
       "      <td>234</td>\n",
       "      <td>49.40478</td>\n",
       "      <td>-126.15072</td>\n",
       "    </tr>\n",
       "  </tbody>\n",
       "</table>\n",
       "</div>"
      ],
      "text/plain": [
       "   facility  latitude  longitude\n",
       "0       169  48.94310 -124.98704\n",
       "1       227  49.30798 -126.00721\n",
       "2       520  49.26548 -125.81247\n",
       "3      1148  49.34182 -125.95328\n",
       "4       234  49.40478 -126.15072"
      ]
     },
     "execution_count": 4,
     "metadata": {},
     "output_type": "execute_result"
    }
   ],
   "source": [
    "ff_sites = ff_data[['facility', 'latitude', 'longitude']]\n",
    "ff_sites = ff_sites.drop_duplicates(subset=['facility'])\n",
    "ff_sites.head()"
   ]
  },
  {
   "cell_type": "code",
   "execution_count": 38,
   "metadata": {},
   "outputs": [
    {
     "name": "stdout",
     "output_type": "stream",
     "text": [
      "Farms are in blue and lightstation locations are in red\n"
     ]
    },
    {
     "data": {
      "text/html": [
       "\n",
       "        <iframe\n",
       "            width=\"700\"\n",
       "            height=\"500\"\n",
       "            src=\"./farms.html\"\n",
       "            frameborder=\"0\"\n",
       "            allowfullscreen\n",
       "        ></iframe>\n",
       "        "
      ],
      "text/plain": [
       "<IPython.lib.display.IFrame at 0x1c3a34592c8>"
      ]
     },
     "metadata": {},
     "output_type": "display_data"
    },
    {
     "data": {
      "text/plain": [
       "'C:\\\\Users\\\\Tom\\\\Projects\\\\sea-lice\\\\farms.html'"
      ]
     },
     "execution_count": 38,
     "metadata": {},
     "output_type": "execute_result"
    }
   ],
   "source": [
    "midpoint = (np.median(ff_sites[\"latitude\"]), np.median(ff_sites[\"longitude\"]))\n",
    "\n",
    "farm_colours = [[240,249,232],[204,235,197],[168,221,181],[123,204,196],[67,162,202],[8,104,172]]\n",
    "lightstation_colours = [(254,240,217),(253,212,158),(253,187,132),(252,141,89),(227,74,51),(179,0,0)]\n",
    "map = pdk.Deck(\n",
    "    initial_view_state={\n",
    "        \"latitude\": midpoint[0],\n",
    "        \"longitude\": midpoint[1],\n",
    "        \"zoom\": 6,\n",
    "        \"pitch\": 50,\n",
    "    },\n",
    "    layers=[\n",
    "        pdk.Layer(\n",
    "        \"HeatmapLayer\",\n",
    "        ff_sites,\n",
    "        get_position=['longitude', 'latitude'],\n",
    "        opacity=0.5,\n",
    "        color_range=farm_colours\n",
    "        ),\n",
    "        pdk.Layer(\n",
    "        \"HeatmapLayer\",\n",
    "        ls_active,\n",
    "        get_position=['longitude', 'latitude'],\n",
    "        opacity=0.5,\n",
    "        color_range=lightstation_colours\n",
    "        ),\n",
    "    ],\n",
    "    mapbox_key='pk.eyJ1IjoidG9tc2l0dGVyIiwiYSI6ImNrYjJocjU0azBiNTEycnFwZWFkajB2bnoifQ.M1BDSPntGHfosotYAUAINw'\n",
    ")\n",
    "\n",
    "print(\"Farms are in blue and lightstation locations are in red\")\n",
    "map.to_html('farms.html')"
   ]
  },
  {
   "cell_type": "code",
   "execution_count": null,
   "metadata": {},
   "outputs": [],
   "source": []
  }
 ],
 "metadata": {
  "kernelspec": {
   "display_name": "Python 3",
   "language": "python",
   "name": "python3"
  },
  "language_info": {
   "codemirror_mode": {
    "name": "ipython",
    "version": 3
   },
   "file_extension": ".py",
   "mimetype": "text/x-python",
   "name": "python",
   "nbconvert_exporter": "python",
   "pygments_lexer": "ipython3",
   "version": "3.7.7"
  }
 },
 "nbformat": 4,
 "nbformat_minor": 4
}
